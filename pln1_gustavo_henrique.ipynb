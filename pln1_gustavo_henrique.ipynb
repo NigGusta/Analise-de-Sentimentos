{
 "cells": [
  {
   "cell_type": "markdown",
   "metadata": {},
   "source": [
    "# Exercício - Análise de Sentimentos\n",
    "\n",
    "Gustavo Henrique da Silva Costa Araujo\n",
    "\n",
    "\n",
    "20210155800"
   ]
  },
  {
   "cell_type": "markdown",
   "metadata": {},
   "source": [
    "Tive que reduzir a quantidade de linhas utilizadas em certa parte, pois meu computador estava faltando memória para alocar na parte dos vetores."
   ]
  },
  {
   "cell_type": "code",
   "execution_count": 14,
   "metadata": {},
   "outputs": [
    {
     "name": "stdout",
     "output_type": "stream",
     "text": [
      "Requirement already satisfied: scikit-learn in c:\\users\\pc\\appdata\\local\\programs\\python\\python311\\lib\\site-packages (1.3.0)\n",
      "Requirement already satisfied: numpy>=1.17.3 in c:\\users\\pc\\appdata\\local\\programs\\python\\python311\\lib\\site-packages (from scikit-learn) (1.25.2)\n",
      "Requirement already satisfied: scipy>=1.5.0 in c:\\users\\pc\\appdata\\local\\programs\\python\\python311\\lib\\site-packages (from scikit-learn) (1.11.2)\n",
      "Requirement already satisfied: joblib>=1.1.1 in c:\\users\\pc\\appdata\\local\\programs\\python\\python311\\lib\\site-packages (from scikit-learn) (1.3.2)\n",
      "Requirement already satisfied: threadpoolctl>=2.0.0 in c:\\users\\pc\\appdata\\local\\programs\\python\\python311\\lib\\site-packages (from scikit-learn) (3.2.0)\n",
      "Note: you may need to restart the kernel to use updated packages.\n"
     ]
    },
    {
     "name": "stderr",
     "output_type": "stream",
     "text": [
      "\n",
      "[notice] A new release of pip is available: 23.1.2 -> 23.2.1\n",
      "[notice] To update, run: python.exe -m pip install --upgrade pip\n"
     ]
    }
   ],
   "source": [
    "pip install scikit-learn\n"
   ]
  },
  {
   "cell_type": "code",
   "execution_count": 15,
   "metadata": {},
   "outputs": [],
   "source": [
    "import pandas as pd\n",
    "\n"
   ]
  },
  {
   "cell_type": "code",
   "execution_count": 16,
   "metadata": {},
   "outputs": [
    {
     "name": "stderr",
     "output_type": "stream",
     "text": [
      "C:\\Users\\PC\\AppData\\Local\\Temp\\ipykernel_1340\\3244800104.py:1: DtypeWarning: Columns (2) have mixed types. Specify dtype option on import or set low_memory=False.\n",
      "  dados = pd.read_csv('B2W-Reviews01.csv')\n"
     ]
    }
   ],
   "source": [
    "dados = pd.read_csv('B2W-Reviews01.csv')\n",
    "tokens_negacao = ['não', 'nem', 'nunca', 'jamais', 'tampouco']"
   ]
  },
  {
   "cell_type": "code",
   "execution_count": 17,
   "metadata": {},
   "outputs": [],
   "source": [
    "dados['review_text'] = dados['review_text'].astype(str)\n",
    "textos = dados['review_text']\n",
    "textos = textos.dropna()\n",
    "textos = textos.str.lower()\n",
    "textos = textos.to_numpy()"
   ]
  },
  {
   "cell_type": "code",
   "execution_count": 18,
   "metadata": {},
   "outputs": [],
   "source": [
    "def adicionar_nao_prefixo(texto):\n",
    "    palavras = texto.split()\n",
    "    novo_texto = []\n",
    "    negacao_ativa = False\n",
    "    \n",
    "    for palavra in palavras:\n",
    "        if any(token in palavra.lower() for token in tokens_negacao):\n",
    "            negacao_ativa = True\n",
    "            nova_palavra = \"NAO_\" + palavra  \n",
    "        elif any(p in palavra for p in ['.', ',', '?', '!', ';']):\n",
    "            negacao_ativa = False\n",
    "            nova_palavra = palavra  \n",
    "        elif negacao_ativa:\n",
    "            nova_palavra = \"NAO_\" + palavra\n",
    "        else:\n",
    "            nova_palavra = palavra  \n",
    "        novo_texto.append(nova_palavra) \n",
    "        \n",
    "    return ' '.join(novo_texto)"
   ]
  },
  {
   "cell_type": "code",
   "execution_count": 19,
   "metadata": {},
   "outputs": [],
   "source": [
    "dados['review_text_modificado'] = dados['review_text'].apply(adicionar_nao_prefixo)\n"
   ]
  },
  {
   "cell_type": "code",
   "execution_count": 20,
   "metadata": {},
   "outputs": [
    {
     "data": {
      "text/plain": [
       "0         Estou contente com a compra entrega rápida o ú...\n",
       "1         Por apenas R$1994.20,eu consegui comprar esse ...\n",
       "2         SUPERA EM AGILIDADE E PRATICIDADE OUTRAS PANEL...\n",
       "3         MEU FILHO AMOU! PARECE DE VERDADE COM TANTOS D...\n",
       "4         A entrega foi no prazo, as americanas estão de...\n",
       "                                ...                        \n",
       "132368    Vale muito, estou usando no controle do Xbox e...\n",
       "132369    Prático e barato, super indico o produto para ...\n",
       "132370    Chegou antes do prazo previsto e corresponde a...\n",
       "132371    Material fraco, poderia ser melhor. Ficou deve...\n",
       "132372    Comprei esse produto, quando chegou estava com...\n",
       "Name: review_text_modificado, Length: 132373, dtype: object"
      ]
     },
     "execution_count": 20,
     "metadata": {},
     "output_type": "execute_result"
    }
   ],
   "source": [
    "dados['review_text_modificado']"
   ]
  },
  {
   "cell_type": "code",
   "execution_count": 25,
   "metadata": {},
   "outputs": [],
   "source": [
    "dadoshead = dados['review_text_modificado'].head(200)"
   ]
  },
  {
   "cell_type": "code",
   "execution_count": 26,
   "metadata": {},
   "outputs": [],
   "source": [
    "from sklearn.feature_extraction.text import TfidfVectorizer\n",
    "\n",
    "tfidf_vectorizer = TfidfVectorizer()\n",
    "tfidf = tfidf_vectorizer.fit_transform(dadoshead)"
   ]
  },
  {
   "cell_type": "code",
   "execution_count": 27,
   "metadata": {},
   "outputs": [
    {
     "data": {
      "text/plain": [
       "array([[0.        , 0.        , 0.        , ..., 0.        , 0.24130963,\n",
       "        0.        ],\n",
       "       [0.        , 0.        , 0.        , ..., 0.        , 0.        ,\n",
       "        0.        ],\n",
       "       [0.        , 0.        , 0.        , ..., 0.        , 0.        ,\n",
       "        0.        ],\n",
       "       ...,\n",
       "       [0.        , 0.        , 0.        , ..., 0.        , 0.        ,\n",
       "        0.        ],\n",
       "       [0.        , 0.        , 0.        , ..., 0.        , 0.        ,\n",
       "        0.        ],\n",
       "       [0.        , 0.        , 0.        , ..., 0.        , 0.        ,\n",
       "        0.        ]])"
      ]
     },
     "execution_count": 27,
     "metadata": {},
     "output_type": "execute_result"
    }
   ],
   "source": [
    "vectors = tfidf.toarray()\n",
    "vectors"
   ]
  },
  {
   "cell_type": "code",
   "execution_count": 31,
   "metadata": {},
   "outputs": [
    {
     "data": {
      "text/plain": [
       "array([0.16668988, 0.16988865, 0.36021002, 0.20202563, 0.24130963,\n",
       "       0.24130963, 0.22797158, 0.12121485, 0.13156065, 0.26010856,\n",
       "       0.21762578, 0.26010856, 0.19037373, 0.26010856, 0.24130963,\n",
       "       0.08572481, 0.21762578, 0.15823675, 0.17703567, 0.24130963,\n",
       "       0.24130963])"
      ]
     },
     "execution_count": 31,
     "metadata": {},
     "output_type": "execute_result"
    }
   ],
   "source": [
    "first = vectors[0]\n",
    "first[first != 0.0]\n"
   ]
  },
  {
   "cell_type": "code",
   "execution_count": 33,
   "metadata": {},
   "outputs": [
    {
     "data": {
      "text/plain": [
       "array([0.        , 0.        , 0.        , ..., 0.        , 0.24130963,\n",
       "       0.        ])"
      ]
     },
     "execution_count": 33,
     "metadata": {},
     "output_type": "execute_result"
    }
   ],
   "source": [
    "first"
   ]
  },
  {
   "cell_type": "code",
   "execution_count": 40,
   "metadata": {},
   "outputs": [],
   "source": [
    "teste = ['produto ruim, entrega demorada, atendimento péssimo, nunca mais quero']"
   ]
  },
  {
   "cell_type": "code",
   "execution_count": 41,
   "metadata": {},
   "outputs": [],
   "source": [
    "teste_vector = tfidf_vectorizer.transform(teste)"
   ]
  },
  {
   "cell_type": "code",
   "execution_count": 42,
   "metadata": {},
   "outputs": [],
   "source": [
    "teste_vector = teste_vector.toarray()[0]"
   ]
  },
  {
   "cell_type": "code",
   "execution_count": 43,
   "metadata": {},
   "outputs": [
    {
     "data": {
      "text/plain": [
       "array([0.5094902 , 0.29402288, 0.34803856, 0.19158506, 0.48636854,\n",
       "       0.5094902 ])"
      ]
     },
     "execution_count": 43,
     "metadata": {},
     "output_type": "execute_result"
    }
   ],
   "source": [
    "teste_vector[teste_vector != 0.0]"
   ]
  },
  {
   "cell_type": "code",
   "execution_count": 44,
   "metadata": {},
   "outputs": [],
   "source": [
    "from sklearn.metrics.pairwise import cosine_similarity"
   ]
  },
  {
   "cell_type": "code",
   "execution_count": 45,
   "metadata": {},
   "outputs": [],
   "source": [
    "similarities = []\n",
    "\n",
    "for vec in vectors:\n",
    "    similarities.append(cosine_similarity([teste_vector], [vec]))"
   ]
  },
  {
   "cell_type": "code",
   "execution_count": 46,
   "metadata": {},
   "outputs": [],
   "source": [
    "clean_similarities = []\n",
    "\n",
    "for x in similarities:\n",
    "    clean_similarities.append(x[0][0])"
   ]
  },
  {
   "cell_type": "code",
   "execution_count": 47,
   "metadata": {},
   "outputs": [
    {
     "data": {
      "text/plain": [
       "[0.055105432742186336,\n",
       " 0.0,\n",
       " 0.04090053306060328,\n",
       " 0.0,\n",
       " 0.03793761835098016,\n",
       " 0.015431478581390278,\n",
       " 0.015448106692148963,\n",
       " 0.02828675360604344,\n",
       " 0.0,\n",
       " 0.021685637781589138]"
      ]
     },
     "execution_count": 47,
     "metadata": {},
     "output_type": "execute_result"
    }
   ],
   "source": [
    "clean_similarities[:10]"
   ]
  },
  {
   "cell_type": "code",
   "execution_count": 48,
   "metadata": {},
   "outputs": [
    {
     "data": {
      "text/plain": [
       "array([164, 141,  76, 142,  73, 146, 149,  68,  67, 150,  79, 153, 155,\n",
       "       156,  60, 157, 158,  56, 161, 162,  51,  64,  50, 138, 136, 109,\n",
       "       110, 102, 101, 198, 112,  97, 116,  95, 137,  94,  91, 119, 124,\n",
       "       125, 127, 129, 133, 135,  83,  93,  49, 108,  25,  28,  27, 175,\n",
       "       166,  24,  23,  22, 176, 178,  19,  18, 179, 193,  15, 185,  13,\n",
       "       190,  10,  30,  29,  40,  46,   1, 196,   3, 170,  42,  41, 194,\n",
       "        31,  39,   8,  37, 173,  34,  33,  32, 171, 174, 145,  72, 106,\n",
       "       188, 117,   5,   6,  61,  99,  16,  52,  78,  48,  69, 100,   9,\n",
       "        45, 105,  57, 169, 199,  55,  62,  96,  26, 191, 130, 165, 172,\n",
       "       111, 134,  86, 126, 114,  77, 184, 107, 168, 131, 122, 139, 103,\n",
       "         7, 140,  85, 151, 147,  21,  70, 197,  81, 118,  43,  80, 148,\n",
       "        88, 195,   4,  58,   2, 187,  59, 159, 144, 152, 167,  36,  35,\n",
       "        38,   0, 177, 180, 113,  14,  47, 183, 186, 123,  11,  12,  71,\n",
       "        53, 160, 182, 121, 120, 128,  20, 163,  75,  89, 115, 181,  66,\n",
       "        44, 192, 104,  98,  63,  92,  65, 189,  90,  82,  54, 143,  74,\n",
       "        84, 154, 132,  87,  17], dtype=int64)"
      ]
     },
     "execution_count": 48,
     "metadata": {},
     "output_type": "execute_result"
    }
   ],
   "source": [
    "import numpy as np\n",
    "np.argsort(clean_similarities)"
   ]
  },
  {
   "cell_type": "code",
   "execution_count": 51,
   "metadata": {},
   "outputs": [
    {
     "data": {
      "text/plain": [
       "0.14132479850873486"
      ]
     },
     "execution_count": 51,
     "metadata": {},
     "output_type": "execute_result"
    }
   ],
   "source": [
    "clean_similarities[74]"
   ]
  },
  {
   "cell_type": "code",
   "execution_count": 52,
   "metadata": {},
   "outputs": [],
   "source": [
    "top_10 = np.argsort(clean_similarities)[-10:]"
   ]
  },
  {
   "cell_type": "code",
   "execution_count": 53,
   "metadata": {},
   "outputs": [
    {
     "data": {
      "text/plain": [
       "array(['ótimo produto, original, recomendo a todos!!! podem comprar, prazo de entrega dentro do esperado, preço muito atrativo, parabéns as americanas, farei mais compras futuras.',\n",
       "       'muito bom produto excelente,entrega muito rápido recomendadíssimo',\n",
       "       'a câmera frontal do meu é terrível, tanto faz tá claro ou escuro, a foto fica ruim de qualquer jeito. muito arrependida!',\n",
       "       'ótima entrega. parabéns às lojas americanas por cumprir a entrega.',\n",
       "       'adorei agora faço meus pães em casa com muito mais qualidade e muito mais saudáveis',\n",
       "       'loja ruim cancelou a compra sem solicitaçao de cancelamento e comunicou o cliente',\n",
       "       'ótima, amei mais uma vez americanas arrasando na entrega. produto de otima qualidade recomendo muito.',\n",
       "       'nao recebi o produto na data marcada. nao existi um telefone de facil acesso para se informar. e o atendimento ao cliente pelo e-mail é péssimo. nao tira suas dúvidas.',\n",
       "       'até hoje não recebí o produto.... não recomendo a loja pra ninguém. era presente de natal....péssimo atendimento nenhum esforço dos atendetes para melhorar entrega....tô fora dessa loja.',\n",
       "       'nao tenho nada a reclamar, bom atendimento e entrega dentro do combinado.'],\n",
       "      dtype=object)"
      ]
     },
     "execution_count": 53,
     "metadata": {},
     "output_type": "execute_result"
    }
   ],
   "source": [
    "textos[top_10]"
   ]
  },
  {
   "cell_type": "code",
   "execution_count": 54,
   "metadata": {},
   "outputs": [],
   "source": [
    "low_10 = np.argsort(clean_similarities)[:-10]"
   ]
  }
 ],
 "metadata": {
  "kernelspec": {
   "display_name": "Python 3",
   "language": "python",
   "name": "python3"
  },
  "language_info": {
   "codemirror_mode": {
    "name": "ipython",
    "version": 3
   },
   "file_extension": ".py",
   "mimetype": "text/x-python",
   "name": "python",
   "nbconvert_exporter": "python",
   "pygments_lexer": "ipython3",
   "version": "3.11.4"
  },
  "orig_nbformat": 4
 },
 "nbformat": 4,
 "nbformat_minor": 2
}
